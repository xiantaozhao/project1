{
 "cells": [
  {
   "cell_type": "code",
   "execution_count": 1,
   "id": "b41b2cd7",
   "metadata": {},
   "outputs": [],
   "source": [
    "import numpy as np\n",
    "import matplotlib.pyplot as plt\n",
    "import SimpleITK as sitk "
   ]
  },
  {
   "cell_type": "code",
   "execution_count": 2,
   "id": "1b4459a3",
   "metadata": {},
   "outputs": [],
   "source": [
    "category = 'chest'"
   ]
  },
  {
   "cell_type": "code",
   "execution_count": 7,
   "id": "090ad474",
   "metadata": {},
   "outputs": [],
   "source": [
    "from src.data.data_load.data_load_chest import load_data_chest\n",
    "vol_HU_zyx, spacing_dzyx, meta = load_data_chest(\n",
    "    '1', modality = \"CT\"\n",
    ")\n",
    "slope = float(meta.get(\"rescale_slope\", 1))\n",
    "intercept = float(meta.get(\"rescale_intercept\", 0))"
   ]
  },
  {
   "cell_type": "code",
   "execution_count": 6,
   "id": "8cfd542d",
   "metadata": {},
   "outputs": [],
   "source": [
    "from src.data.data_process.data_process import raw_to_attenuation\n",
    "from src.data.data_process.data_process import reorient_for_axis"
   ]
  },
  {
   "cell_type": "code",
   "execution_count": 10,
   "id": "39180449",
   "metadata": {},
   "outputs": [],
   "source": [
    "vol_zyx = raw_to_attenuation(vol_HU_zyx, slope, intercept)"
   ]
  },
  {
   "cell_type": "code",
   "execution_count": 13,
   "id": "b0310d42",
   "metadata": {},
   "outputs": [
    {
     "name": "stdout",
     "output_type": "stream",
     "text": [
      "value range (HU)      : -2048 → 3071\n",
      "value range (mu)      : 0 → 0\n"
     ]
    }
   ],
   "source": [
    "print(\"value range (HU)      :\", int(vol_HU_zyx.min()), \"→\", int(vol_HU_zyx.max()))\n",
    "print(\"value range (mu)      :\", int(vol_zyx.min()), \"→\", int(vol_zyx.max()))"
   ]
  },
  {
   "cell_type": "code",
   "execution_count": 14,
   "id": "cf5e55ea",
   "metadata": {},
   "outputs": [],
   "source": [
    "from src.data.data_process.projection import get_projections"
   ]
  },
  {
   "cell_type": "code",
   "execution_count": 15,
   "id": "30f20e1f",
   "metadata": {},
   "outputs": [],
   "source": [
    "[nz, ny, nx] = vol_zyx.shape    \n",
    "[dz, dy, dx] = spacing_dzyx"
   ]
  },
  {
   "cell_type": "code",
   "execution_count": 16,
   "id": "d079298e",
   "metadata": {},
   "outputs": [],
   "source": [
    "geo_dict = {\n",
    "    # Distances\n",
    "    \"DSD\": 1000.0,   # Distance Source Detector (mm)\n",
    "    \"DSO\": 600.0,   # Distance Source Origin   (mm)\n",
    "\n",
    "    # Detector parameters\n",
    "    \"nDetector\": np.array([256, 256], dtype=np.int32),   # [nu, nv] = [width, height] (px)\n",
    "    \"dDetector\": np.array([2.0, 2.0], dtype=np.float32), # [du, dv] (mm/px)\n",
    "\n",
    "    # Image parameters\n",
    "    \"nVoxel\": np.array([nx, ny, nz], dtype=np.int32),       # [nx, ny, nz]\n",
    "    \"dVoxel\": np.array([dx, dy, dz], dtype=np.float32),     # [dx, dy, dz] (mm/vx)\n",
    "\n",
    "    # Offsets\n",
    "    \"offOrigin\":   np.array([0.0, 0.0, 0.0], dtype=np.float32),\n",
    "    \"offDetector\": np.array([0.0, 0.0],       dtype=np.float32),\n",
    "\n",
    "    # Mode & misc\n",
    "    \"mode\": \"cone\",\n",
    "    \"accuracy\": 0.5,\n",
    "    \"filter\": \"ram-lak\",   # 供重建算法用，对 Ax 前向投影本身无影响\n",
    "\n",
    "    # 可选（有的代码不会用到，但保留以便一致）\n",
    "    \"COR\": 0.0,                                        # center of rotation (mm)\n",
    "    \"rotDetector\": np.array([0.0, 0.0, 0.0], dtype=np.float32),  # (rad)\n",
    "}\n",
    "\n"
   ]
  },
  {
   "cell_type": "code",
   "execution_count": 17,
   "id": "50e0d2ea",
   "metadata": {},
   "outputs": [],
   "source": [
    "angles_deg = np.arange(0, 360, 3, dtype=np.float32)"
   ]
  },
  {
   "cell_type": "code",
   "execution_count": 18,
   "id": "ed15a75e",
   "metadata": {},
   "outputs": [],
   "source": [
    "from src.data.data_process.projection import get_projections"
   ]
  },
  {
   "cell_type": "code",
   "execution_count": 19,
   "id": "3cab0b72",
   "metadata": {},
   "outputs": [],
   "source": [
    "vol_HU_xyz = np.asarray(vol_HU_zyx, dtype=np.float32).transpose(2, 1, 0)\n",
    "vol_xyz = np.asarray(vol_zyx, dtype=np.float32).transpose(2, 1, 0)"
   ]
  },
  {
   "cell_type": "code",
   "execution_count": 20,
   "id": "04c8fd74",
   "metadata": {},
   "outputs": [],
   "source": [
    "projs_HU = get_projections(vol_HU_xyz, geo_dict, angles_deg)\n",
    "projs = get_projections(vol_xyz, geo_dict, angles_deg)"
   ]
  },
  {
   "cell_type": "code",
   "execution_count": 21,
   "id": "9548623d",
   "metadata": {},
   "outputs": [],
   "source": [
    "from vis.proj.proj_vis import save_projs_png_uint8"
   ]
  },
  {
   "cell_type": "code",
   "execution_count": 22,
   "id": "1817cad6",
   "metadata": {},
   "outputs": [
    {
     "data": {
      "text/plain": [
       "(120, 256, 256)"
      ]
     },
     "execution_count": 22,
     "metadata": {},
     "output_type": "execute_result"
    }
   ],
   "source": [
    "projs.shape"
   ]
  },
  {
   "cell_type": "code",
   "execution_count": 23,
   "id": "bf6b6541",
   "metadata": {},
   "outputs": [
    {
     "data": {
      "text/plain": [
       "array([[[-47.41606 , -46.727524, -46.160515, ..., -42.907085,\n",
       "         -43.59491 , -44.37981 ],\n",
       "        [-46.71451 , -47.767303, -47.037537, ..., -43.757183,\n",
       "         -44.501625, -43.36605 ],\n",
       "        [-46.163433, -47.034687, -48.13436 , ..., -44.685677,\n",
       "         -43.529785, -42.31934 ],\n",
       "        ...,\n",
       "        [-46.131172, -47.087982, -47.93694 , ..., -44.699215,\n",
       "         -43.783623, -43.033535],\n",
       "        [-46.73323 , -47.635555, -47.03467 , ..., -43.81079 ,\n",
       "         -44.384384, -43.617996],\n",
       "        [-47.393566, -46.67426 , -46.1607  , ..., -42.846165,\n",
       "         -43.558666, -44.221992]],\n",
       "\n",
       "       [[-41.004707, -41.710808, -42.281532, ..., -45.100567,\n",
       "         -45.826893, -46.3285  ],\n",
       "        [-40.59958 , -41.2655  , -42.005444, ..., -45.9813  ,\n",
       "         -46.30931 , -46.525513],\n",
       "        [-40.377155, -40.614983, -41.431446, ..., -46.179714,\n",
       "         -46.55862 , -47.2267  ],\n",
       "        ...,\n",
       "        [-40.28663 , -40.644566, -41.421597, ..., -46.309757,\n",
       "         -46.86478 , -47.39594 ],\n",
       "        [-40.58029 , -41.182606, -41.952126, ..., -45.681633,\n",
       "         -46.34214 , -46.648636],\n",
       "        [-40.93936 , -41.718582, -42.265163, ..., -44.799732,\n",
       "         -45.473846, -46.20044 ]],\n",
       "\n",
       "       [[-36.55566 , -37.0565  , -37.692783, ..., -46.72313 ,\n",
       "         -47.36093 , -47.752335],\n",
       "        [-36.2616  , -36.708385, -37.254528, ..., -47.056217,\n",
       "         -47.662487, -48.429287],\n",
       "        [-35.935463, -36.17762 , -36.876495, ..., -47.9974  ,\n",
       "         -48.81791 , -49.157173],\n",
       "        ...,\n",
       "        [-35.895218, -36.155174, -36.81275 , ..., -48.444927,\n",
       "         -49.147484, -49.6852  ],\n",
       "        [-36.258343, -36.613686, -37.284634, ..., -47.301968,\n",
       "         -48.233112, -49.122368],\n",
       "        [-36.511894, -37.095432, -37.610928, ..., -47.041588,\n",
       "         -47.79966 , -48.58254 ]],\n",
       "\n",
       "       ...,\n",
       "\n",
       "       [[-56.80554 , -56.16834 , -55.5215  , ..., -31.94184 ,\n",
       "         -31.491388, -30.868538],\n",
       "        [-57.41182 , -56.80047 , -56.329525, ..., -31.223232,\n",
       "         -30.908915, -30.415014],\n",
       "        [-58.302383, -57.650585, -56.982277, ..., -30.793276,\n",
       "         -30.551281, -29.918543],\n",
       "        ...,\n",
       "        [-58.32207 , -57.476677, -57.01646 , ..., -29.82582 ,\n",
       "         -29.549385, -28.881208],\n",
       "        [-57.31379 , -56.882088, -56.28011 , ..., -30.22946 ,\n",
       "         -30.031073, -29.483822],\n",
       "        [-56.679565, -56.21171 , -55.433678, ..., -31.63151 ,\n",
       "         -30.810057, -29.998129]],\n",
       "\n",
       "       [[-52.787624, -52.34448 , -51.732746, ..., -35.280396,\n",
       "         -34.81615 , -34.10667 ],\n",
       "        [-53.422302, -52.84184 , -52.130173, ..., -34.936977,\n",
       "         -34.2406  , -33.814507],\n",
       "        [-54.250637, -53.796875, -53.191414, ..., -34.338787,\n",
       "         -33.572598, -33.449177],\n",
       "        ...,\n",
       "        [-54.023624, -53.85229 , -53.08283 , ..., -33.09496 ,\n",
       "         -32.45034 , -32.177963],\n",
       "        [-53.418888, -52.71585 , -52.010136, ..., -33.818855,\n",
       "         -32.781593, -32.6044  ],\n",
       "        [-52.759796, -52.329372, -51.658775, ..., -34.115875,\n",
       "         -33.576668, -32.643543]],\n",
       "\n",
       "       [[-49.94894 , -49.254948, -48.576572, ..., -39.616985,\n",
       "         -39.179367, -38.26656 ],\n",
       "        [-50.407467, -50.125484, -49.59522 , ..., -39.063423,\n",
       "         -38.227802, -37.8065  ],\n",
       "        [-51.325333, -50.59105 , -50.184036, ..., -38.219875,\n",
       "         -37.578606, -37.38853 ],\n",
       "        ...,\n",
       "        [-51.235355, -50.663754, -50.080532, ..., -37.62647 ,\n",
       "         -37.022903, -37.065254],\n",
       "        [-50.43225 , -50.054653, -49.544033, ..., -38.280014,\n",
       "         -37.604717, -37.43508 ],\n",
       "        [-49.94529 , -49.11697 , -48.5911  , ..., -38.55089 ,\n",
       "         -38.389904, -37.723816]]], dtype=float32)"
      ]
     },
     "execution_count": 23,
     "metadata": {},
     "output_type": "execute_result"
    }
   ],
   "source": [
    "projs_HU"
   ]
  },
  {
   "cell_type": "code",
   "execution_count": 26,
   "id": "1add1c8e",
   "metadata": {},
   "outputs": [],
   "source": [
    "paths = save_projs_png_uint8(\n",
    "    projs=projs_HU,\n",
    "    angles_deg=angles_deg,\n",
    "    category=\"chest\",       #  figs/projections/category/\n",
    "    save_path=\"figs/projections/test/\" + \"projections/\",         \n",
    "    origin=\"lower\",         # 如需倒置改 \"lower\"\n",
    ")"
   ]
  }
 ],
 "metadata": {
  "kernelspec": {
   "display_name": "proj_1",
   "language": "python",
   "name": "python3"
  },
  "language_info": {
   "codemirror_mode": {
    "name": "ipython",
    "version": 3
   },
   "file_extension": ".py",
   "mimetype": "text/x-python",
   "name": "python",
   "nbconvert_exporter": "python",
   "pygments_lexer": "ipython3",
   "version": "3.10.18"
  }
 },
 "nbformat": 4,
 "nbformat_minor": 5
}
